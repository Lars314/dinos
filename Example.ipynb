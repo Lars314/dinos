{
 "cells": [
  {
   "cell_type": "markdown",
   "id": "2e803766-721a-497c-8561-71d1e05fbf69",
   "metadata": {
    "tags": []
   },
   "source": [
    "![](./report_images/titlebackground_v3.PNG \"DINOS\")\n",
    "It's dino time"
   ]
  },
  {
   "cell_type": "markdown",
   "id": "f481ef5f-6f14-4dc8-a829-8a3c7b32577a",
   "metadata": {},
   "source": [
    "# Quick-Start\n",
    "\n",
    "Steps for DINOS-ing:\n",
    "- Make a configuration `json` file\n",
    "- Run the command `python dinos.py -i example_config.json -o example_output` where `-i` specifies the configuration file you just made, and `-o` specifies the output directory.\n",
    "- Your PDF will be inside your output directory as `dinos_report.pdf`\n",
    "\n",
    "If all goes well you should see something like the following:"
   ]
  },
  {
   "cell_type": "code",
   "execution_count": 6,
   "id": "db1f3d19-e7ed-413b-b9a4-fdb215c8021b",
   "metadata": {
    "tags": []
   },
   "outputs": [
    {
     "name": "stdout",
     "output_type": "stream",
     "text": [
      "This is pdfTeX, Version 3.14159265-2.6-1.40.18 (TeX Live 2017/Debian) (preloaded format=pdflatex)\n",
      " restricted \\write18 enabled.\n",
      "entering extended mode\n",
      "\n",
      "  _____ _____ _   _  ____   _____        __ \n",
      " |  __ \\_   _| \\ | |/ __ \\ / ____|      /_ |\n",
      " | |  | || | |  \\| | |  | | (___   __   _| |\n",
      " | |  | || | | . ` | |  | |\\___ \\  \\ \\ / / |\n",
      " | |__| || |_| |\\  | |__| |____) |  \\ V /| |\n",
      " |_____/_____|_| \\_|\\____/|_____/    \\_/ |_|\n",
      "                                            \n",
      "It's dino time\n",
      "\n",
      "reading configuration...\n",
      "defining observer...\n",
      "setting up times...\n",
      "setting up targets...\n",
      "creating plots...\n",
      "all sky map\n",
      "local sky map\n",
      "airmass\n",
      "Finder image NGC6302\n",
      "Finder image M102\n",
      "Finder image Vega\n",
      "formatting document...\n",
      "Done!\n"
     ]
    },
    {
     "data": {
      "text/plain": [
       "0"
      ]
     },
     "execution_count": 6,
     "metadata": {},
     "output_type": "execute_result"
    }
   ],
   "source": [
    "import os\n",
    "os.system(\"python dinos.py -i example_config.json -o example_output\")"
   ]
  },
  {
   "cell_type": "markdown",
   "id": "728bb6eb-f7fb-4fae-8a11-03ae3f53283d",
   "metadata": {},
   "source": [
    "# Making Your Config File\n",
    "\n",
    "But what should this configuration file look like? An `example_config.json` is provided. Here I will step through it.\n",
    "\n",
    "There are three main parts to the configuration file:\n",
    "- `Night`, which contains the information about the observing night. Example:\n",
    "\n",
    "```json\n",
    "\"Night\":{\n",
    "        \"telescope_name\":\"Nordic Optical Telescope\",\n",
    "        \"observer_lat\":-17.884999999999998,\n",
    "        \"observer_long\":28.7569444,\n",
    "        \"observer_elevation\":2383,\n",
    "        \"obs_start\":\"2023-08-07 22:00:00\",\n",
    "        \"obs_end\":\"2023-08-08 05:30:00\",\n",
    "        \"obs_windows\":[\n",
    "            \"2023-08-07 22:00:00\",\n",
    "            \"2023-08-08 00:30:00\",\n",
    "            \"2023-08-08 03:00:00\"\n",
    "        ]\n",
    "    }\n",
    "```\n",
    "\n",
    "- `Targets`, which contains information about the targets. Example:\n",
    "\n",
    "```json\n",
    "\"Targets\":[\n",
    "        \"NGC6302\",\n",
    "        \"M102\",\n",
    "        \"Vega\"\n",
    "    ],\n",
    "```\n",
    "\n",
    "- `Config`, which contains arguments for the different plotting functions. Example:\n",
    "\n",
    "```json\n",
    "\"Config\":{\n",
    "        \"PDF\":{\n",
    "            \"theme\":\"light\"\n",
    "        },\n",
    "        \"all_sky_map\":{\n",
    "            \"do_stars\":true,\n",
    "            \"do_asterisms\":true,\n",
    "            \"do_constellations\":false,\n",
    "            \"do_moon\":true,\n",
    "            \"do_time_text\":false,\n",
    "            \"do_xticks\":false,\n",
    "            \"do_yticks\":true,\n",
    "            \"do_title\":false,\n",
    "            \"do_legend\":false,\n",
    "            \"do_target_colors\":true,\n",
    "            \"mag_limit\":8.5,\n",
    "            \"star_marker\":\"o\",\n",
    "            \"target_marker\":\"*\",\n",
    "            \"sky_culture\":\"rey\"\n",
    "        },\n",
    "        \"local_sky\":{\n",
    "            \"do_moon\":false,\n",
    "            \"do_grid\":true\n",
    "        },\n",
    "        \"airmass\":{\n",
    "            \"do_moon\":true,\n",
    "            \"do_moon_labels\":true\n",
    "        },\n",
    "        \"finder_images\":{\n",
    "            \"survey\":\"DSS\",\n",
    "            \"log\":false,\n",
    "            \"grid\":false,\n",
    "            \"reticle\":true\n",
    "        }\n",
    "    }\n",
    "```\n",
    "\n",
    "Currently, many of these parameters do not serve a purpose as DINOS v1 is in \"MVP\" status (minimum viable product). In the `Night` section, only the `telescope_name` sets the observer's location. The other location parameters do nothing. The time parameters are important, however.\n",
    "\n",
    "The `obs_windows` parameter is a list of starting times for your observation blocks, if any.\n",
    "\n",
    "Under `Targets`, you just list the names of the targets you want. As long as they can be resolved by [SIMBAD](https://simbad.cds.unistra.fr/simbad/sim-fbasic), you shouldn't see any errors. You can also specify your own coordinates. The format for that is `RA DEC name`. For example:\n",
    "\n",
    "```json\n",
    "\"Targets\":[\n",
    "        \"250d25m24.51s 36d27m40.75s M13\",\n",
    "        \"250d19m24.51s 36d27m40.75s M13b\",\n",
    "        \"250d31m24.51s 36d27m40.75s M13c\",\n",
    "        \"250d25m24.51s 36d21m40.75s M13d\",\n",
    "        \"250d25m24.51s 36d33m40.75s M13e\"\n",
    "    ],\n",
    "```\n",
    "\n",
    "This sets up several \"targets\" around the globular cluster M13. This example might be what you would use if you wanted to make a mosaic image of an object that is bigger than your telescope's field of view. Each line here lists the RA and DEC, with a unique name. All of these are for M13, but require different names because DINOS saves finding charts as \"finder_name.jpg\" and duplicate names will overwrite finder charts, leading to repeated finder charts in the final document. Names like \"M13b\" are not resolveable by SIMBAD and will throw an error, but DINOS will continue just with the coordinates you specified."
   ]
  },
  {
   "cell_type": "code",
   "execution_count": null,
   "id": "2cd4f34f-69e8-458e-9af5-74743755f39a",
   "metadata": {},
   "outputs": [],
   "source": []
  }
 ],
 "metadata": {
  "kernelspec": {
   "display_name": "Python 3 (ipykernel)",
   "language": "python",
   "name": "python3"
  },
  "language_info": {
   "codemirror_mode": {
    "name": "ipython",
    "version": 3
   },
   "file_extension": ".py",
   "mimetype": "text/x-python",
   "name": "python",
   "nbconvert_exporter": "python",
   "pygments_lexer": "ipython3",
   "version": "3.10.10"
  }
 },
 "nbformat": 4,
 "nbformat_minor": 5
}
