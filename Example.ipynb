{
 "cells": [
  {
   "cell_type": "markdown",
   "id": "2e803766-721a-497c-8561-71d1e05fbf69",
   "metadata": {
    "tags": []
   },
   "source": [
    "![](./report_images/titlebackground_v3.PNG \"DINOS\")\n",
    "It's dino time"
   ]
  },
  {
   "cell_type": "markdown",
   "id": "f481ef5f-6f14-4dc8-a829-8a3c7b32577a",
   "metadata": {},
   "source": [
    "# Quick-Start\n",
    "\n",
    "Steps for DINOS-ing:\n",
    "- Make a configuration `json` file\n",
    "- Run the command `python dinos.py -i example_config.json -o example_output` where `-i` specifies the configuration file you just made, and `-o` specifies the output directory.\n",
    "- Your PDF will be inside your output directory as `dinos_report.pdf`\n",
    "\n",
    "If all goes well you should see something like the following:"
   ]
  },
  {
   "cell_type": "code",
   "execution_count": 6,
   "id": "db1f3d19-e7ed-413b-b9a4-fdb215c8021b",
   "metadata": {
    "tags": []
   },
   "outputs": [
    {
     "name": "stdout",
     "output_type": "stream",
     "text": [
      "This is pdfTeX, Version 3.14159265-2.6-1.40.18 (TeX Live 2017/Debian) (preloaded format=pdflatex)\n",
      " restricted \\write18 enabled.\n",
      "entering extended mode\n",
      "\n",
      "  _____ _____ _   _  ____   _____        __ \n",
      " |  __ \\_   _| \\ | |/ __ \\ / ____|      /_ |\n",
      " | |  | || | |  \\| | |  | | (___   __   _| |\n",
      " | |  | || | | . ` | |  | |\\___ \\  \\ \\ / / |\n",
      " | |__| || |_| |\\  | |__| |____) |  \\ V /| |\n",
      " |_____/_____|_| \\_|\\____/|_____/    \\_/ |_|\n",
      "                                            \n",
      "It's dino time\n",
      "\n",
      "reading configuration...\n",
      "defining observer...\n",
      "setting up times...\n",
      "setting up targets...\n",
      "creating plots...\n",
      "all sky map\n",
      "local sky map\n",
      "airmass\n",
      "Finder image NGC6302\n",
      "Finder image M102\n",
      "Finder image Vega\n",
      "formatting document...\n",
      "Done!\n"
     ]
    },
    {
     "data": {
      "text/plain": [
       "0"
      ]
     },
     "execution_count": 6,
     "metadata": {},
     "output_type": "execute_result"
    }
   ],
   "source": [
    "import os\n",
    "os.system(\"python dinos.py -i example_config.json -o example_output\")"
   ]
  },
  {
   "cell_type": "markdown",
   "id": "728bb6eb-f7fb-4fae-8a11-03ae3f53283d",
   "metadata": {},
   "source": [
    "# Making Your Config File\n",
    "\n",
    "But what should this configuration file look like? An `example_config.json` is provided. Here I will step through it"
   ]
  },
  {
   "cell_type": "code",
   "execution_count": null,
   "id": "2cd4f34f-69e8-458e-9af5-74743755f39a",
   "metadata": {},
   "outputs": [],
   "source": []
  }
 ],
 "metadata": {
  "kernelspec": {
   "display_name": "Python 3 (ipykernel)",
   "language": "python",
   "name": "python3"
  },
  "language_info": {
   "codemirror_mode": {
    "name": "ipython",
    "version": 3
   },
   "file_extension": ".py",
   "mimetype": "text/x-python",
   "name": "python",
   "nbconvert_exporter": "python",
   "pygments_lexer": "ipython3",
   "version": "3.10.10"
  }
 },
 "nbformat": 4,
 "nbformat_minor": 5
}
